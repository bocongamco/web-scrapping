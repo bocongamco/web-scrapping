{
 "cells": [
  {
   "cell_type": "code",
   "execution_count": 2,
   "id": "ee943d33-e216-4bbe-84aa-340aa20eac4d",
   "metadata": {},
   "outputs": [],
   "source": [
    "import pandas as pd\n",
    "from bs4 import BeautifulSoup\n",
    "import requests\n",
    "import datetime as dt\n",
    "\n",
    "#sending email\n",
    "import smtplib"
   ]
  },
  {
   "cell_type": "code",
   "execution_count": 3,
   "id": "4eff31ce-0857-4355-a266-6e51337c59a8",
   "metadata": {},
   "outputs": [],
   "source": [
    "def get_book_title(soup):\n",
    "    try: \n",
    "        product_title = soup.find(\"span\",attrs={\"id\":'productTitle'}).text.strip()\n",
    "    except AttributeError:\n",
    "        product_title = \"None\"\n",
    "\n",
    "    return product_title\n",
    "        \n"
   ]
  },
  {
   "cell_type": "code",
   "execution_count": null,
   "id": "d8aa26de-b200-4a17-90b1-298dc2960580",
   "metadata": {},
   "outputs": [
    {
     "name": "stdout",
     "output_type": "stream",
     "text": [
      "Return of the Prophet (The Lemniscate Legacy Book 1)\n",
      "Spelling for Life: Uncovering the Simplicity and Science of Spelling\n",
      "The Art of Game Design: A Book of Lenses, Third Edition\n",
      "The Housemaid: An absolutely addictive psychological thriller with a jaw-dropping twist\n",
      "King of Sloth: A Forced Proximity Romance (Kings of Sin Book 4)\n",
      "The Lost Bookshop: The most charming and uplifting novel for 2024 and the perfect gift for book lovers!\n",
      "None\n",
      "My Favourite Mistake: The No. 1 Sunday Times bestseller\n",
      "Atomic Habits: the life-changing million-copy #1 bestseller\n",
      "Yellowface: The instant #1 Sunday Times bestseller and Reese Witherspoon Book Club pick from author R.F. Kuang\n",
      "The Tattooist of Auschwitz: Based on an incredible true story\n",
      "The Silent Patient: The Record-Breaking, Multimillion Copy Sunday Times Bestselling Thriller And Tiktok Sensation\n",
      "The Diary of a CEO: The 33 Laws of Business and Life\n",
      "The Girl in Seat 2A: THE NUMBER ONE BESTSELLER\n",
      "A Good Girl's Guide to Murder: TikTok made me buy it! The first book in the bestselling thriller trilogy, as seen in Netflix's Heartstopper!: Book 1\n",
      "The Maid: The Sunday Times and No.1 New York Times bestseller, and Winner of the Goodreads Choice Awards for best mystery thriller: Book 1\n",
      "Twisted Games: A Forbidden Royal Bodyguard Romance\n",
      "The Paper Palace: The No.1 New York Times Bestseller and Reese Witherspoon Bookclub Pick\n",
      "The Book of Unusual Knowledge\n",
      "Her Dying Secret: A completely addictive and heart-racing crime and mystery thriller (Detective Josie Quinn Book 20)\n",
      "Claris: Bonjour Riviera: The Chicest Mouse in Paris (Volume 3)\n"
     ]
    }
   ],
   "source": [
    "URL = \"https://www.amazon.com.au/s?k=books&crid=1EISML3B83NV&sprefix=book%2Caps%2C242&ref=nb_sb_noss_1\"\n",
    "HEADERS = {\"User-Agent\": \"Mozilla/5.0 (Macintosh; Intel Mac OS X 10_15_7) AppleWebKit/605.1.15 (KHTML, like Gecko) Version/17.1 Safari/605.1.15\",\n",
    "                }\n",
    "response = requests.get(URL,headers = HEADERS)\n",
    "soup = BeautifulSoup(response.content,\"html.parser\")\n",
    "pretty_soup = BeautifulSoup(soup.prettify(),\"html.parser\")\n",
    "\n",
    "links = pretty_soup.find_all(\"a\",attrs={'class':'a-link-normal s-underline-text s-underline-link-text s-link-style a-text-normal'})\n",
    "list_of_books_links =[]\n",
    "for book_link in links:\n",
    "    list_of_books_links.append(book_link.get('href'))\n",
    "\n",
    "\n",
    "data_frame = {\"Title\":[],\"Author\":[],\"Rating\":[],\"Review\":[], \"Price\":[]}\n",
    "for link in list_of_books_links:\n",
    "     #new_link = \"https://www.amazon.com.au/\"+link\n",
    "    new_book = requests.get(\"https://www.amazon.com.au/\"+link,headers= HEADERS)\n",
    "    new_soup = BeautifulSoup(new_book.content,\"html.parser\")\n",
    "    book_title = get_book_title(new_soup)\n",
    "    print(book_title)\n",
    "    "
   ]
  }
 ],
 "metadata": {
  "kernelspec": {
   "display_name": "Python 3 (ipykernel)",
   "language": "python",
   "name": "python3"
  },
  "language_info": {
   "codemirror_mode": {
    "name": "ipython",
    "version": 3
   },
   "file_extension": ".py",
   "mimetype": "text/x-python",
   "name": "python",
   "nbconvert_exporter": "python",
   "pygments_lexer": "ipython3",
   "version": "3.11.7"
  }
 },
 "nbformat": 4,
 "nbformat_minor": 5
}
