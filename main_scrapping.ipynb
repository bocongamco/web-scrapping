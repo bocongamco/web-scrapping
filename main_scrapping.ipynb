{
 "cells": [
  {
   "cell_type": "code",
   "execution_count": 10,
   "id": "ee943d33-e216-4bbe-84aa-340aa20eac4d",
   "metadata": {},
   "outputs": [],
   "source": [
    "import pandas as pd\n",
    "from bs4 import BeautifulSoup\n",
    "import requests\n",
    "import datetime as dt\n",
    "import numpy as np\n",
    "#sending email\n",
    "import smtplib"
   ]
  },
  {
   "cell_type": "code",
   "execution_count": 2,
   "id": "4eff31ce-0857-4355-a266-6e51337c59a8",
   "metadata": {},
   "outputs": [],
   "source": [
    "\n",
    "#Function to get book title. \n",
    "def get_book_title(soup):\n",
    "    #Try going find the book title first. if can then get book title\n",
    "    #else, product_title = \"None\"\n",
    "    try: \n",
    "        product_title = soup.find(\"span\",attrs={\"id\":'productTitle'}).text.strip()\n",
    "    except AttributeError:\n",
    "        product_title = \"None\"\n",
    "    return product_title\n",
    "        \n"
   ]
  },
  {
   "cell_type": "code",
   "execution_count": 3,
   "id": "940e9688-12ad-4eec-9c1b-3cc36e8268c5",
   "metadata": {},
   "outputs": [],
   "source": [
    "def get_book_author(soup):\n",
    "    try:\n",
    "        product_author = soup.find(\"span\",attrs={\"class\":'author notFaded'}).find(\"a\",attrs={\"class\":\"a-link-normal\"}).text.strip()\n",
    "    except AttributeError:\n",
    "        product_author = \"None\"\n",
    "    return product_author"
   ]
  },
  {
   "cell_type": "code",
   "execution_count": 4,
   "id": "8372a64a-4118-4b3d-8a1f-eb4f366786c2",
   "metadata": {},
   "outputs": [],
   "source": [
    "def get_book_rating(soup):\n",
    "    try: \n",
    "        product_rating = soup.find(\"i\",attrs={\"class\":'a-icon a-icon-star a-star-4-5 cm-cr-review-stars-spacing-big'}).text.strip()\n",
    "    except AttributeError:\n",
    "        product_rating = \"None\"\n",
    "\n",
    "    return product_rating"
   ]
  },
  {
   "cell_type": "code",
   "execution_count": 5,
   "id": "6b32baa0-6d41-4c6d-825f-691a0ed320e2",
   "metadata": {},
   "outputs": [],
   "source": [
    "def get_book_price(soup):\n",
    "    try: \n",
    "        product_price = soup.find(\"div\",attrs={\"class\":'a-section a-spacing-none aok-align-center aok-relative'}).find(\"span\",attrs={\"class\":'aok-offscreen'}).text.strip()\n",
    "    except AttributeError:\n",
    "        product_price = \"None\"\n",
    "    return product_price"
   ]
  },
  {
   "cell_type": "code",
   "execution_count": 6,
   "id": "ccc800f3-8259-40c0-b034-f913aa9bc470",
   "metadata": {},
   "outputs": [],
   "source": [
    "def get_book_review(soup):\n",
    "    try: \n",
    "        product_review = soup.find(\"span\",attrs={\"id\":'acrCustomerReviewText'}).text.strip()\n",
    "    except AttributeError: \n",
    "        product_review = \"None\"\n",
    "    return product_review \n",
    "        "
   ]
  },
  {
   "cell_type": "code",
   "execution_count": 8,
   "id": "d8aa26de-b200-4a17-90b1-298dc2960580",
   "metadata": {},
   "outputs": [],
   "source": [
    "URL = \"https://www.amazon.com.au/s?k=books&crid=1EISML3B83NV&sprefix=book%2Caps%2C242&ref=nb_sb_noss_1\"\n",
    "HEADERS = {\"User-Agent\": \"Mozilla/5.0 (Macintosh; Intel Mac OS X 10_15_7) AppleWebKit/605.1.15 (KHTML, like Gecko) Version/17.1 Safari/605.1.15\",\n",
    "                }\n",
    "response = requests.get(URL,headers = HEADERS)\n",
    "soup = BeautifulSoup(response.content,\"html.parser\")\n",
    "pretty_soup = BeautifulSoup(soup.prettify(),\"html.parser\")\n",
    "\n",
    "links = pretty_soup.find_all(\"a\",attrs={'class':'a-link-normal s-underline-text s-underline-link-text s-link-style a-text-normal'})\n",
    "list_of_books_links =[]\n",
    "for book_link in links:\n",
    "    list_of_books_links.append(book_link.get('href'))\n",
    "\n",
    "\n",
    "book_data_dictionaries = {\"Title\":[],\"Author\":[],\"Rating\":[],\"Review\":[], \"Price\":[]}\n",
    "for link in list_of_books_links:\n",
    "     #new_link = \"https://www.amazon.com.au/\"+link\n",
    "    new_book = requests.get(\"https://www.amazon.com.au/\"+link,headers= HEADERS)\n",
    "    new_soup = BeautifulSoup(new_book.content,\"html.parser\")\n",
    "    \n",
    "    #Calling function to get book details \n",
    "    book_title = get_book_title(new_soup)\n",
    "    book_author = get_book_author(new_soup)\n",
    "    book_rating = get_book_rating(new_soup)\n",
    "    book_review = get_book_review(new_soup)\n",
    "    book_price = get_book_price(new_soup)\n",
    "    #adding books details to the dictionaries\n",
    "    book_data_dictionaries[\"Title\"].append(book_title)\n",
    "    book_data_dictionaries[\"Author\"].append(book_author)\n",
    "    book_data_dictionaries[\"Rating\"].append(book_rating)\n",
    "    book_data_dictionaries[\"Review\"].append(book_review)\n",
    "    book_data_dictionaries[\"Price\"].append(book_price)\n",
    "     #print(book_title)\n",
    "\n",
    "\n",
    "    "
   ]
  },
  {
   "cell_type": "code",
   "execution_count": 15,
   "id": "ccee1ed1-d738-4ab4-9978-2866c2860f0b",
   "metadata": {},
   "outputs": [],
   "source": [
    "books_dataframe = pd.DataFrame.from_dict(book_data_dictionaries)\n",
    "books_dataframe[\"Title\"].replace(\"None\",np.nan,inplace = True)\n",
    "books_dataframe = books_dataframe.dropna()\n",
    "books_dataframe.to_csv(\"books.csv\")"
   ]
  },
  {
   "cell_type": "code",
   "execution_count": 13,
   "id": "809d523b-63b9-4b06-a854-5e4eff0ebf4f",
   "metadata": {},
   "outputs": [
    {
     "data": {
      "text/plain": [
       "<bound method DataFrame.dropna of                                                 Title             Author  \\\n",
       "0   Spelling for Life: Uncovering the Simplicity a...          Lyn Stone   \n",
       "1   The Art of Game Design: A Book of Lenses, Thir...       Jesse Schell   \n",
       "2            Let it go: Emotions are Energy in Motion     Craig Phillips   \n",
       "3   The Housemaid: An absolutely addictive psychol...    Freida McFadden   \n",
       "4   King of Sloth: A Forced Proximity Romance (Kin...          Ana Huang   \n",
       "..                                                ...                ...   \n",
       "56                        Modern Recording Techniques  David Miles Huber   \n",
       "57                           Max Cyber Terror Revenge     Anthony Silman   \n",
       "58  Claris: Fashion Show Fiasco: The Chicest Mouse...         Megan Hess   \n",
       "59  Solving Product Design Exercises: Questions & ...   Artiom Dashinsky   \n",
       "60                                                NaN               None   \n",
       "\n",
       "                Rating           Review                           Price  \n",
       "0   4.7 out of 5 stars       54 ratings  $40.80 with 23 percent savings  \n",
       "1   4.7 out of 5 stars      470 ratings  $94.75 with 21 percent savings  \n",
       "2                 None       12 ratings                          $40.63  \n",
       "3   4.3 out of 5 stars  287,860 ratings  $14.00 with 39 percent savings  \n",
       "4                 None   10,133 ratings                            None  \n",
       "..                 ...              ...                             ...  \n",
       "56  4.7 out of 5 stars      670 ratings  $78.45 with 14 percent savings  \n",
       "57                None             None                          $18.70  \n",
       "58                None      326 ratings  $20.79 with 23 percent savings  \n",
       "59  4.4 out of 5 stars      294 ratings                          $69.17  \n",
       "60                None             None                            None  \n",
       "\n",
       "[61 rows x 5 columns]>"
      ]
     },
     "execution_count": 13,
     "metadata": {},
     "output_type": "execute_result"
    }
   ],
   "source": [
    "books_dataframe"
   ]
  }
 ],
 "metadata": {
  "kernelspec": {
   "display_name": "Python 3 (ipykernel)",
   "language": "python",
   "name": "python3"
  },
  "language_info": {
   "codemirror_mode": {
    "name": "ipython",
    "version": 3
   },
   "file_extension": ".py",
   "mimetype": "text/x-python",
   "name": "python",
   "nbconvert_exporter": "python",
   "pygments_lexer": "ipython3",
   "version": "3.11.7"
  }
 },
 "nbformat": 4,
 "nbformat_minor": 5
}
