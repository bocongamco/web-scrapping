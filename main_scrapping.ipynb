{
 "cells": [
  {
   "cell_type": "code",
   "execution_count": 5,
   "id": "ee943d33-e216-4bbe-84aa-340aa20eac4d",
   "metadata": {},
   "outputs": [],
   "source": [
    "import pandas as pd\n",
    "from bs4 import BeautifulSoup\n",
    "import requests\n",
    "import datetime as dt\n",
    "\n",
    "#sending email\n",
    "import smtplib"
   ]
  },
  {
   "cell_type": "code",
   "execution_count": 3,
   "id": "4eff31ce-0857-4355-a266-6e51337c59a8",
   "metadata": {},
   "outputs": [],
   "source": [
    "\n",
    "#Function to get book title. \n",
    "def get_book_title(soup):\n",
    "    #Try going find the book title first. if can then get book title\n",
    "    #else, product_title = \"None\"\n",
    "    try: \n",
    "        product_title = soup.find(\"span\",attrs={\"id\":'productTitle'}).text.strip()\n",
    "    except AttributeError:\n",
    "        product_title = \"None\"\n",
    "    return product_title\n",
    "        \n"
   ]
  },
  {
   "cell_type": "code",
   "execution_count": 6,
   "id": "940e9688-12ad-4eec-9c1b-3cc36e8268c5",
   "metadata": {},
   "outputs": [],
   "source": [
    "def get_book_author(soup):\n",
    "    try:\n",
    "        product_author = soup.find(\"span\",attrs={\"class\":'author notFaded'}).find(\"a\",attrs={\"class\":\"a-link-normal\"}).text.strip()\n",
    "    except AttributeError:\n",
    "        product_author = \"None\"\n",
    "    return product_author"
   ]
  },
  {
   "cell_type": "code",
   "execution_count": null,
   "id": "d8aa26de-b200-4a17-90b1-298dc2960580",
   "metadata": {},
   "outputs": [],
   "source": [
    "URL = \"https://www.amazon.com.au/s?k=books&crid=1EISML3B83NV&sprefix=book%2Caps%2C242&ref=nb_sb_noss_1\"\n",
    "HEADERS = {\"User-Agent\": \"Mozilla/5.0 (Macintosh; Intel Mac OS X 10_15_7) AppleWebKit/605.1.15 (KHTML, like Gecko) Version/17.1 Safari/605.1.15\",\n",
    "                }\n",
    "response = requests.get(URL,headers = HEADERS)\n",
    "soup = BeautifulSoup(response.content,\"html.parser\")\n",
    "pretty_soup = BeautifulSoup(soup.prettify(),\"html.parser\")\n",
    "\n",
    "links = pretty_soup.find_all(\"a\",attrs={'class':'a-link-normal s-underline-text s-underline-link-text s-link-style a-text-normal'})\n",
    "list_of_books_links =[]\n",
    "for book_link in links:\n",
    "    list_of_books_links.append(book_link.get('href'))\n",
    "\n",
    "\n",
    "book_data_dictionaries = {\"Title\":[],\"Author\":[],\"Rating\":[],\"Review\":[], \"Price\":[]}\n",
    "for link in list_of_books_links:\n",
    "     #new_link = \"https://www.amazon.com.au/\"+link\n",
    "    new_book = requests.get(\"https://www.amazon.com.au/\"+link,headers= HEADERS)\n",
    "    new_soup = BeautifulSoup(new_book.content,\"html.parser\")\n",
    "    \n",
    "    #Calling function to get book details \n",
    "    book_title = get_book_title(new_soup)\n",
    "    book_author = get_book_author(new_soup)\n",
    "    \n",
    "    #adding books details to the dictionaries\n",
    "    book_data_dictionaries[\"Title\"].append(book_title)\n",
    "    book_data_dictionaries[\"Author\"].append(book_author)\n",
    "    #print(book_title)\n",
    "\n",
    "    "
   ]
  },
  {
   "cell_type": "code",
   "execution_count": 6,
   "id": "809d523b-63b9-4b06-a854-5e4eff0ebf4f",
   "metadata": {},
   "outputs": [
    {
     "data": {
      "text/plain": [
       "{'Title': ['Spelling for Life: Uncovering the Simplicity and Science of Spelling',\n",
       "  'The Art of Game Design: A Book of Lenses, Third Edition',\n",
       "  'Claris: Pasta Disaster: Claris: The Chicest Mouse in Paris (Volume 7)',\n",
       "  'The Housemaid: An absolutely addictive psychological thriller with a jaw-dropping twist',\n",
       "  'King of Sloth: A Forced Proximity Romance (Kings of Sin Book 4)',\n",
       "  'The Lost Bookshop: The most charming and uplifting novel for 2024 and the perfect gift for book lovers!',\n",
       "  'None',\n",
       "  'My Favourite Mistake: The No. 1 Sunday Times bestseller',\n",
       "  'Atomic Habits: the life-changing million-copy #1 bestseller',\n",
       "  'Yellowface: The instant #1 Sunday Times bestseller and Reese Witherspoon Book Club pick from author R.F. Kuang',\n",
       "  'The Tattooist of Auschwitz: Based on an incredible true story',\n",
       "  'The Silent Patient: The Record-Breaking, Multimillion Copy Sunday Times Bestselling Thriller And Tiktok Sensation',\n",
       "  'The Diary of a CEO: The 33 Laws of Business and Life',\n",
       "  'The Girl in Seat 2A: THE NUMBER ONE BESTSELLER',\n",
       "  \"A Good Girl's Guide to Murder: TikTok made me buy it! The first book in the bestselling thriller trilogy, as seen in Netflix's Heartstopper!: Book 1\",\n",
       "  'The Maid: The Sunday Times and No.1 New York Times bestseller, and Winner of the Goodreads Choice Awards for best mystery thriller: Book 1',\n",
       "  'Twisted Games: A Forbidden Royal Bodyguard Romance',\n",
       "  'The Paper Palace: The No.1 New York Times Bestseller and Reese Witherspoon Bookclub Pick',\n",
       "  'The Book of Unusual Knowledge',\n",
       "  'Her Dying Secret: A completely addictive and heart-racing crime and mystery thriller (Detective Josie Quinn Book 20)',\n",
       "  'Claris: Bonjour Riviera: The Chicest Mouse in Paris (Volume 3)',\n",
       "  'Claris: Palace Party: The Chicest Mouse in Paris (Volume 5)',\n",
       "  'Break and Enter: A Sexy, Thrilling Romantic Suspense (Callahan Security Series Book 1)',\n",
       "  'Max Cyber Terror Revenge',\n",
       "  'Read People Like a Book: How to Analyze, Understand, and Predict People’s Emotions, Thoughts, Intentions, and Behaviors',\n",
       "  'If He Had Been with Me: The Tiktok Sensation',\n",
       "  'Mountains Made of Glass',\n",
       "  'The Seven Husbands of Evelyn Hugo',\n",
       "  '101 Essays That Will Change The Way You Think',\n",
       "  'Women Who Run With The Wolves: Contacting the Power of the Wild Woman',\n",
       "  'The Power of Your Subconscious Mind',\n",
       "  'The Naturals: The Naturals: Book 1 Cold cases get hot in this unputdownable mystery from the author of The Inheritance Games',\n",
       "  'Things We Never Got Over: The Must-Read Romantic Comedy And Tiktok Bestseller!',\n",
       "  'Does It Hurt?',\n",
       "  'Beautiful Oops!',\n",
       "  'None',\n",
       "  'Book With No Pictures',\n",
       "  'The Day Shelley Woodhouse Woke Up: the BRAND NEW uplifting, emotional read from the author of NUMBER ONE BESTSELLER The Last List of Mabel Beaumont for 2024',\n",
       "  \"The Hitchhiker's Guide to the Galaxy: Hitchhiker's Guide to the Galaxy Book 1: 42nd Anniversary Edition\",\n",
       "  'Why Has Nobody Told Me This Before?: The No 1 Sunday Times Bestseller 2022',\n",
       "  'Priest: 1',\n",
       "  'This is a Book About Dumplings: Everything You Need to Craft Delicious Pot Stickers, Bao, Wontons and More',\n",
       "  \"The Book that Wouldn't Burn: Book 1\",\n",
       "  \"The Lost Book of Natural Remedies: Over 150 Homemade Antibiotics, Herbal Remedies, and Best Organic Recipes For Healing Without Pills Inspired By ... By Barbara O'Neill and Hulda Regehr Clark\",\n",
       "  \"The Book of Azrael: Don't miss BookTok's new dark romantasy obsession!! (Gods and Monsters 1)\",\n",
       "  'If You Tell: A True Story of Murder, Family Secrets, and the Unbreakable Bond of Sisterhood',\n",
       "  \"What to Do When You Worry Too Much: A Kid's Guide to Overcoming Anxiety\",\n",
       "  'The Modern Herbal Dispensatory: A Medicine-Making Guide',\n",
       "  'This Was Meant to Find You: When You Needed It Most',\n",
       "  'Baking Yesteryear: The Best Recipes from the 1900s to the 1980s',\n",
       "  'Beneath a Scarlet Sky: A Novel',\n",
       "  'Love and Other Words',\n",
       "  'Where the Crawdads Sing',\n",
       "  'The Perfect Marriage: A Completely Gripping Psychological Suspense',\n",
       "  'Just For The Summer: The bestselling love story that will make you cry happy tears',\n",
       "  'Say You Swear: The smash-hit TikTok sensation with the book boyfriend readers cannot stop raving about',\n",
       "  'Claris: Fashion Show Fiasco: The Chicest Mouse in Paris (Volume 2)',\n",
       "  'Modern Recording Techniques',\n",
       "  'Solving Product Design Exercises: Questions & Answers',\n",
       "  'Improvise for Real: The Complete Method for All Instruments',\n",
       "  'None'],\n",
       " 'Author': [],\n",
       " 'Rating': [],\n",
       " 'Review': [],\n",
       " 'Price': []}"
      ]
     },
     "execution_count": 6,
     "metadata": {},
     "output_type": "execute_result"
    }
   ],
   "source": [
    "book_data_dictionaries"
   ]
  }
 ],
 "metadata": {
  "kernelspec": {
   "display_name": "Python 3 (ipykernel)",
   "language": "python",
   "name": "python3"
  },
  "language_info": {
   "codemirror_mode": {
    "name": "ipython",
    "version": 3
   },
   "file_extension": ".py",
   "mimetype": "text/x-python",
   "name": "python",
   "nbconvert_exporter": "python",
   "pygments_lexer": "ipython3",
   "version": "3.11.7"
  }
 },
 "nbformat": 4,
 "nbformat_minor": 5
}
