{
 "cells": [
  {
   "cell_type": "code",
   "execution_count": 1,
   "id": "be750ab6-e922-4cfd-8b52-23c0f14a7065",
   "metadata": {},
   "outputs": [],
   "source": [
    "import pandas as pd\n",
    "from bs4 import BeautifulSoup\n",
    "import requests\n",
    "import datetime as dt\n",
    "\n",
    "#sending email\n",
    "import smtplib"
   ]
  },
  {
   "cell_type": "code",
   "execution_count": 2,
   "id": "52d2793f-6846-4ffd-b668-1c858aa20f6f",
   "metadata": {},
   "outputs": [],
   "source": [
    "#Connect to the website\n",
    "\n",
    "URL = \"https://www.amazon.com.au/s?k=books&crid=1EISML3B83NV&sprefix=book%2Caps%2C242&ref=nb_sb_noss_1\"\n",
    "HEADERS = {\"User-Agent\": \"Mozilla/5.0 (Macintosh; Intel Mac OS X 10_15_7) AppleWebKit/605.1.15 (KHTML, like Gecko) Version/17.1 Safari/605.1.15\",\n",
    "                }\n",
    "response = requests.get(URL,headers = HEADERS)\n",
    "\n",
    "soup = BeautifulSoup(response.content,\"html.parser\")\n",
    "pretty_soup = BeautifulSoup(soup.prettify(),\"html.parser\")\n",
    "\n",
    "#Extract the data\n",
    "title = pretty_soup.find_all(\"a\",attrs={'class':'a-link-normal s-underline-text s-underline-link-text s-link-style a-text-normal'})\n",
    "\n",
    "\n",
    "#Extract Link.\n",
    "code = title[0].get('href')\n",
    "link = \"https://www.amazon.com/\"+ code"
   ]
  },
  {
   "cell_type": "code",
   "execution_count": 3,
   "id": "0ecae59d-9ac7-4a7e-84db-8ba84b08648d",
   "metadata": {},
   "outputs": [
    {
     "data": {
      "text/plain": [
       "'https://www.amazon.com//sspa/click?ie=UTF8&spc=MToyMzMyNjcyMTk0OTkyODI0OjE3MTU1MTg1NzU6c3BfYXRmOjMwMDAzMjUxMjYyNTE2Mjo6MDo6&url=%2FReturn-Prophet-Lemniscate-Legacy-Book-ebook%2Fdp%2FB0CSXFNTTS%2Fref%3Dsr_1_2_sspa%3Fcrid%3D1EISML3B83NV%26dib%3DeyJ2IjoiMSJ9.YbhDoTV1pens9T9dC6H86G83bsN18cY-gjukl90rHVSDsfFu59MwPSMAtgOIvBXUW09S-rb7iAtz_mceoGirweO7luZ7WU2cveODEk25LKhPLOP3lAujiCy0VHgfEFiEDJAZszwEfxQHXNLXYYZ0PULJFhAQHphcLxhNRYoD8SvHb1IsamyS1NeoSH9ezHvdIPpBRDE-N51H3m8okmTugAmqOIn-UwM8o_Z78uh1NkbajIQpPfbjSeWl4H1rrkNk7h_pe_rGfI_xPVfaEyux76bOTmOjfdCCyG4BXOW5VQ4.ua6500V_BcQOFnlxUHhhvid3DbeqBfVtQh8FHr7Ceus%26dib_tag%3Dse%26keywords%3Dbooks%26qid%3D1715518575%26sprefix%3Dbook%252Caps%252C242%26sr%3D8-2-spons%26sp_csd%3Dd2lkZ2V0TmFtZT1zcF9hdGY%26psc%3D1'"
      ]
     },
     "execution_count": 3,
     "metadata": {},
     "output_type": "execute_result"
    }
   ],
   "source": [
    "link"
   ]
  },
  {
   "cell_type": "markdown",
   "id": "d5ddb540-8112-4724-aeb8-59c52bfee7d4",
   "metadata": {},
   "source": [
    "#getting details of the first product.\n",
    "detail_prod = requests.get(link,headers=HEADERS)\n",
    "detail_prod_soup = BeautifulSoup(detail_prod.content,\"html.parser\")\n",
    "pretty_detail_prod_soup = BeautifulSoup(detail_prod_soup.prettify(),\"html.parser\")\n",
    "print(pretty_detail_prod_soup)"
   ]
  },
  {
   "cell_type": "code",
   "execution_count": 5,
   "id": "9f079269-87f9-4851-9ffb-17cfd3863eea",
   "metadata": {},
   "outputs": [],
   "source": [
    "#Getting product title\n",
    "product_title = pretty_detail_prod_soup.find(\"span\",attrs={\"id\":'productTitle'}).text.strip()\n",
    "product_price = "
   ]
  },
  {
   "cell_type": "code",
   "execution_count": 9,
   "id": "8aaa5c40-cc7d-4b56-b40e-acd535d32858",
   "metadata": {},
   "outputs": [
    {
     "data": {
      "text/plain": [
       "'Return of the Prophet (The Lemniscate Legacy Book 1)'"
      ]
     },
     "execution_count": 9,
     "metadata": {},
     "output_type": "execute_result"
    }
   ],
   "source": []
  }
 ],
 "metadata": {
  "kernelspec": {
   "display_name": "Python 3 (ipykernel)",
   "language": "python",
   "name": "python3"
  },
  "language_info": {
   "codemirror_mode": {
    "name": "ipython",
    "version": 3
   },
   "file_extension": ".py",
   "mimetype": "text/x-python",
   "name": "python",
   "nbconvert_exporter": "python",
   "pygments_lexer": "ipython3",
   "version": "3.11.7"
  }
 },
 "nbformat": 4,
 "nbformat_minor": 5
}
