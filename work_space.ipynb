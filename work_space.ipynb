{
 "cells": [
  {
   "cell_type": "code",
   "execution_count": 2,
   "id": "be750ab6-e922-4cfd-8b52-23c0f14a7065",
   "metadata": {},
   "outputs": [],
   "source": [
    "import pandas as pd\n",
    "from bs4 import BeautifulSoup\n",
    "import requests\n",
    "import datetime as dt\n",
    "\n",
    "#sending email\n",
    "import smtplib"
   ]
  },
  {
   "cell_type": "code",
   "execution_count": 3,
   "id": "52d2793f-6846-4ffd-b668-1c858aa20f6f",
   "metadata": {},
   "outputs": [],
   "source": [
    "#Connect to the website\n",
    "\n",
    "URL = \"https://www.amazon.com.au/s?k=books&crid=1EISML3B83NV&sprefix=book%2Caps%2C242&ref=nb_sb_noss_1\"\n",
    "HEADERS = {\"User-Agent\": \"Mozilla/5.0 (Macintosh; Intel Mac OS X 10_15_7) AppleWebKit/605.1.15 (KHTML, like Gecko) Version/17.1 Safari/605.1.15\",\n",
    "                }\n",
    "response = requests.get(URL,headers = HEADERS)\n",
    "\n",
    "soup = BeautifulSoup(response.content,\"html.parser\")\n",
    "pretty_soup = BeautifulSoup(soup.prettify(),\"html.parser\")\n",
    "\n",
    "#Extract the data\n",
    "title = pretty_soup.find_all(\"a\",attrs={'class':'a-link-normal s-underline-text s-underline-link-text s-link-style a-text-normal'})\n",
    "\n",
    "\n",
    "\n",
    "#Extract Link.\n",
    "code = title[3].get('href')\n",
    "link = \"https://www.amazon.com/\"+ code"
   ]
  },
  {
   "cell_type": "code",
   "execution_count": 29,
   "id": "0ecae59d-9ac7-4a7e-84db-8ba84b08648d",
   "metadata": {},
   "outputs": [
    {
     "data": {
      "text/plain": [
       "'https://www.amazon.com//Housemaid-absolutely-addictive-psychological-jaw-dropping/dp/1408728516/ref=sr_1_5?crid=1EISML3B83NV&dib=eyJ2IjoiMSJ9.YbhDoTV1pens9T9dC6H86G83bsN18cY-gjukl90rHVSDsfFu59MwPSMAtgOIvBXUW09S-rb7iAtz_mceoGirweO7luZ7WU2cveODEk25LKhPLOP3lAujiCy0VHgfEFiEDJAZszwEfxQHXNLXYYZ0PULJFhAQHphcLxhNRYoD8SvHb1IsamyS1NeoSH9ezHvdIPpBRDE-N51H3m8okmTugAmqOIn-UwM8o_Z78uh1NkbajIQpPfbjSeWl4H1rrkNk7h_pe_rGfI_xPVfaEyux76bOTmOjfdCCyG4BXOW5VQ4.WGyWyRnpuGIFuv_APtqvFoiIp2aO3SAujFldLbsolDQ&dib_tag=se&keywords=books&qid=1715520921&sprefix=book%2Caps%2C242&sr=8-5'"
      ]
     },
     "execution_count": 29,
     "metadata": {},
     "output_type": "execute_result"
    }
   ],
   "source": [
    "link"
   ]
  },
  {
   "cell_type": "code",
   "execution_count": 4,
   "id": "15e878e4-d7f2-4c6c-bf1a-475cd35a6b3d",
   "metadata": {},
   "outputs": [],
   "source": [
    "#getting details of the first product.\n",
    "detail_prod = requests.get(link,headers=HEADERS)\n",
    "detail_prod_soup = BeautifulSoup(detail_prod.content,\"html.parser\")\n",
    "pretty_detail_prod_soup = BeautifulSoup(detail_prod_soup.prettify(),\"html.parser\")\n"
   ]
  },
  {
   "cell_type": "code",
   "execution_count": 6,
   "id": "9f079269-87f9-4851-9ffb-17cfd3863eea",
   "metadata": {},
   "outputs": [
    {
     "name": "stdout",
     "output_type": "stream",
     "text": [
      "The Housemaid: An absolutely addictive psychological thriller with a jaw-dropping twist $12.99 Freida McFadden 4.5 out of 5 stars 292,241 ratings\n"
     ]
    }
   ],
   "source": [
    "#Getting product title\n",
    "product_title = pretty_detail_prod_soup.find(\"span\",attrs={\"id\":'productTitle'}).text.strip()\n",
    "product_price = pretty_detail_prod_soup.find(\"div\",attrs={\"class\":'a-section a-spacing-none aok-align-center aok-relative'}).find(\"span\",attrs={\"class\":'aok-offscreen'}).text.strip()\n",
    "product_author = pretty_detail_prod_soup.find(\"span\",attrs={\"class\":'author notFaded'}).find(\"a\",attrs={\"class\":\"a-link-normal\"}).text.strip()\n",
    "product_rating = pretty_detail_prod_soup.find(\"i\",attrs={\"class\":'a-icon a-icon-star a-star-4-5 cm-cr-review-stars-spacing-big'}).text.strip()\n",
    "product_review = pretty_detail_prod_soup.find(\"span\",attrs={\"id\":'acrCustomerReviewText'}).text.strip()\n",
    "print(product_title,product_price,product_author,product_rating,product_review)"
   ]
  },
  {
   "cell_type": "code",
   "execution_count": 9,
   "id": "8aaa5c40-cc7d-4b56-b40e-acd535d32858",
   "metadata": {},
   "outputs": [
    {
     "data": {
      "text/plain": [
       "'Return of the Prophet (The Lemniscate Legacy Book 1)'"
      ]
     },
     "execution_count": 9,
     "metadata": {},
     "output_type": "execute_result"
    }
   ],
   "source": []
  },
  {
   "cell_type": "code",
   "execution_count": null,
   "id": "c0558801-a9e5-4f3d-86bf-5bd7667d5fb8",
   "metadata": {},
   "outputs": [],
   "source": []
  }
 ],
 "metadata": {
  "kernelspec": {
   "display_name": "Python 3 (ipykernel)",
   "language": "python",
   "name": "python3"
  },
  "language_info": {
   "codemirror_mode": {
    "name": "ipython",
    "version": 3
   },
   "file_extension": ".py",
   "mimetype": "text/x-python",
   "name": "python",
   "nbconvert_exporter": "python",
   "pygments_lexer": "ipython3",
   "version": "3.11.7"
  }
 },
 "nbformat": 4,
 "nbformat_minor": 5
}
