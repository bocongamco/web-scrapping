{
 "cells": [
  {
   "cell_type": "code",
   "execution_count": 2,
   "id": "be750ab6-e922-4cfd-8b52-23c0f14a7065",
   "metadata": {},
   "outputs": [],
   "source": [
    "import pandas as pd\n",
    "import bs4 as BeautifulSoups\n",
    "import requests"
   ]
  },
  {
   "cell_type": "code",
   "execution_count": 4,
   "id": "52d2793f-6846-4ffd-b668-1c858aa20f6f",
   "metadata": {},
   "outputs": [],
   "source": [
    "URL = \"https://www.amazon.com.au/s?k=laptop&crid=2T4YTIWEO0D2U&sprefix=shir%2Caps%2C325&ref=nb_sb_noss_2\""
   ]
  },
  {
   "cell_type": "code",
   "execution_count": null,
   "id": "0ecae59d-9ac7-4a7e-84db-8ba84b08648d",
   "metadata": {},
   "outputs": [],
   "source": []
  },
  {
   "cell_type": "code",
   "execution_count": null,
   "id": "fb03d408-0ca8-4f50-b4d7-6582124fde39",
   "metadata": {},
   "outputs": [],
   "source": []
  },
  {
   "cell_type": "code",
   "execution_count": null,
   "id": "289d7b1a-d384-4254-8f13-553dfd2e21a5",
   "metadata": {},
   "outputs": [],
   "source": []
  }
 ],
 "metadata": {
  "kernelspec": {
   "display_name": "Python 3 (ipykernel)",
   "language": "python",
   "name": "python3"
  },
  "language_info": {
   "codemirror_mode": {
    "name": "ipython",
    "version": 3
   },
   "file_extension": ".py",
   "mimetype": "text/x-python",
   "name": "python",
   "nbconvert_exporter": "python",
   "pygments_lexer": "ipython3",
   "version": "3.11.7"
  }
 },
 "nbformat": 4,
 "nbformat_minor": 5
}
