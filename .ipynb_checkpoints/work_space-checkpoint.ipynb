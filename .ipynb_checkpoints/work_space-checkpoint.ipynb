{
 "cells": [
  {
   "cell_type": "code",
   "execution_count": 16,
   "id": "be750ab6-e922-4cfd-8b52-23c0f14a7065",
   "metadata": {},
   "outputs": [],
   "source": [
    "import pandas as pd\n",
    "from bs4 import BeautifulSoup\n",
    "import requests\n",
    "import datetime as dt\n",
    "\n",
    "#sending email\n",
    "import smtplib"
   ]
  },
  {
   "cell_type": "code",
   "execution_count": 39,
   "id": "52d2793f-6846-4ffd-b668-1c858aa20f6f",
   "metadata": {},
   "outputs": [],
   "source": [
    "#Connect to the website\n",
    "\n",
    "URL = \"https://www.amazon.com.au/s?k=books&crid=1EISML3B83NV&sprefix=book%2Caps%2C242&ref=nb_sb_noss_1\"\n",
    "headers = {\"User-Agent\": \"Mozilla/5.0 (Macintosh; Intel Mac OS X 10_15_7) AppleWebKit/605.1.15 (KHTML, like Gecko) Version/17.1 Safari/605.1.15\",\n",
    "                }\n",
    "response = requests.get(URL,headers = headers)\n",
    "\n",
    "soup = BeautifulSoup(response.content,\"html.parser\")\n",
    "pretty_soup = BeautifulSoup(soup.prettify(),\"html.parser\")\n",
    "\n",
    "#Extract the data\n",
    "title = pretty_soup.find_all(\"a\",attrs={'class':'a-link-normal s-underline-text s-underline-link-text s-link-style a-text-normal'})\n",
    "\n",
    "\n",
    "#Extract Link.\n",
    "code = title[0].get('href')\n",
    "link = \"https://www.amazon.com/\"+ code"
   ]
  },
  {
   "cell_type": "code",
   "execution_count": 40,
   "id": "0ecae59d-9ac7-4a7e-84db-8ba84b08648d",
   "metadata": {},
   "outputs": [
    {
     "data": {
      "text/plain": [
       "'https://www.amazon.com//sspa/click?ie=UTF8&spc=MToyNzAxNzI0Njg3ODE3MzE2OjE3MTUzMjA0NDg6c3BfYXRmOjMwMDAzNjc1ODk5OTI2Mjo6MDo6&url=%2FQuestion-Day-Journal-Days-Questions%2Fdp%2F1942116101%2Fref%3Dsr_1_1_sspa%3Fcrid%3D1EISML3B83NV%26dib%3DeyJ2IjoiMSJ9.gst7QdiaUSGG8gxasJwmTflBdMJiWNqtn0kLnr148F651zjcm4WCh75QrmEmjNiM1vi3yWIfxPu0oLrnYT7UzL6UL17vVq4c7Ovvn54TDTrwZFZoUWYKk7bsHVLZ_GHRTZHSzHoPx2_k-mic4BOW3WlUuBOrZDG6wTPv0F2d_zty1sz2t8-srk4IsLNaSVdo9JbS7W73dJcFMMOlDMC4i74Oq8piBgEy3ongvXHPkqzCy1zumOKGc8EgxFdVvcmczE1gNd5PJ0dmfwTnFWzOGXNkXLG0gvG7o3vXXtzsIB4.cQ-k0-K7dy3bWtfR9bPohCk0CEjS8DDeaktrg6EyB7Q%26dib_tag%3Dse%26keywords%3Dbooks%26qid%3D1715320448%26sprefix%3Dbook%252Caps%252C242%26sr%3D8-1-spons%26sp_csd%3Dd2lkZ2V0TmFtZT1zcF9hdGY%26psc%3D1'"
      ]
     },
     "execution_count": 40,
     "metadata": {},
     "output_type": "execute_result"
    }
   ],
   "source": [
    "link"
   ]
  },
  {
   "cell_type": "code",
   "execution_count": 19,
   "id": "fb03d408-0ca8-4f50-b4d7-6582124fde39",
   "metadata": {},
   "outputs": [],
   "source": []
  }
 ],
 "metadata": {
  "kernelspec": {
   "display_name": "Python 3 (ipykernel)",
   "language": "python",
   "name": "python3"
  },
  "language_info": {
   "codemirror_mode": {
    "name": "ipython",
    "version": 3
   },
   "file_extension": ".py",
   "mimetype": "text/x-python",
   "name": "python",
   "nbconvert_exporter": "python",
   "pygments_lexer": "ipython3",
   "version": "3.11.7"
  }
 },
 "nbformat": 4,
 "nbformat_minor": 5
}
