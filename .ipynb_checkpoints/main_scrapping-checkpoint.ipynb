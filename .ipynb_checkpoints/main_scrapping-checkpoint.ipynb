{
 "cells": [
  {
   "cell_type": "code",
   "execution_count": 1,
   "id": "ee943d33-e216-4bbe-84aa-340aa20eac4d",
   "metadata": {},
   "outputs": [],
   "source": [
    "import pandas as pd\n",
    "from bs4 import BeautifulSoup\n",
    "import requests\n",
    "import datetime as dt\n",
    "\n",
    "#sending email\n",
    "import smtplib"
   ]
  },
  {
   "cell_type": "code",
   "execution_count": null,
   "id": "d8aa26de-b200-4a17-90b1-298dc2960580",
   "metadata": {},
   "outputs": [],
   "source": [
    "URL = \"https://www.amazon.com.au/s?k=books&crid=1EISML3B83NV&sprefix=book%2Caps%2C242&ref=nb_sb_noss_1\"\n",
    "HEADERS = {\"User-Agent\": \"Mozilla/5.0 (Macintosh; Intel Mac OS X 10_15_7) AppleWebKit/605.1.15 (KHTML, like Gecko) Version/17.1 Safari/605.1.15\",\n",
    "                }\n",
    "response = requests.get(URL,headers = HEADERS)\n",
    "\n",
    "\n",
    "links = pretty_soup.find_all(\"a\",attrs={'class':'a-link-normal s-underline-text s-underline-link-text s-link-style a-text-normal'})\n",
    "list_of_books_links =[]\n",
    "for book_link in links:\n",
    "    list_of_books_links.append(book_link.get('href'))\n",
    "\n",
    "data_frame = {\"Title\":[],\"Author\":[],\"Rating\":[], \"Price\":[]}\n",
    "\n",
    "for book in list_of_books_links:\n",
    "    soup = BeautifulSoup(response.content,\"html.parser\")\n",
    "    pretty_soup = BeautifulSoup(soup.prettify(),\"html.parser\")\n",
    "    "
   ]
  }
 ],
 "metadata": {
  "kernelspec": {
   "display_name": "Python 3 (ipykernel)",
   "language": "python",
   "name": "python3"
  },
  "language_info": {
   "codemirror_mode": {
    "name": "ipython",
    "version": 3
   },
   "file_extension": ".py",
   "mimetype": "text/x-python",
   "name": "python",
   "nbconvert_exporter": "python",
   "pygments_lexer": "ipython3",
   "version": "3.11.7"
  }
 },
 "nbformat": 4,
 "nbformat_minor": 5
}
